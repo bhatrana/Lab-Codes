{
 "cells": [
  {
   "cell_type": "code",
   "execution_count": 17,
   "metadata": {},
   "outputs": [],
   "source": [
    "# Lab 2 done by Raj Kumar Ranabhat\n",
    "# Import Modules and libraries\n",
    "import numpy as np\n",
    "import pandas as pd\n",
    "from sklearn import linear_model\n",
    "import matplotlib.pyplot as plt\n",
    "import seaborn as sns\n",
    "from sklearn.linear_model import LogisticRegression\n",
    "from sklearn.metrics import accuracy_score "
   ]
  },
  {
   "cell_type": "code",
   "execution_count": 3,
   "metadata": {},
   "outputs": [
    {
     "data": {
      "text/html": [
       "<div>\n",
       "<style scoped>\n",
       "    .dataframe tbody tr th:only-of-type {\n",
       "        vertical-align: middle;\n",
       "    }\n",
       "\n",
       "    .dataframe tbody tr th {\n",
       "        vertical-align: top;\n",
       "    }\n",
       "\n",
       "    .dataframe thead th {\n",
       "        text-align: right;\n",
       "    }\n",
       "</style>\n",
       "<table border=\"1\" class=\"dataframe\">\n",
       "  <thead>\n",
       "    <tr style=\"text-align: right;\">\n",
       "      <th></th>\n",
       "      <th>row.names</th>\n",
       "      <th>sbp</th>\n",
       "      <th>tobacco</th>\n",
       "      <th>ldl</th>\n",
       "      <th>adiposity</th>\n",
       "      <th>famhist</th>\n",
       "      <th>typea</th>\n",
       "      <th>obesity</th>\n",
       "      <th>alcohol</th>\n",
       "      <th>age</th>\n",
       "      <th>chd</th>\n",
       "    </tr>\n",
       "  </thead>\n",
       "  <tbody>\n",
       "    <tr>\n",
       "      <th>0</th>\n",
       "      <td>1</td>\n",
       "      <td>160</td>\n",
       "      <td>12.00</td>\n",
       "      <td>5.73</td>\n",
       "      <td>23.11</td>\n",
       "      <td>Present</td>\n",
       "      <td>49</td>\n",
       "      <td>25.30</td>\n",
       "      <td>97.20</td>\n",
       "      <td>52</td>\n",
       "      <td>1</td>\n",
       "    </tr>\n",
       "    <tr>\n",
       "      <th>1</th>\n",
       "      <td>2</td>\n",
       "      <td>144</td>\n",
       "      <td>0.01</td>\n",
       "      <td>4.41</td>\n",
       "      <td>28.61</td>\n",
       "      <td>Absent</td>\n",
       "      <td>55</td>\n",
       "      <td>28.87</td>\n",
       "      <td>2.06</td>\n",
       "      <td>63</td>\n",
       "      <td>1</td>\n",
       "    </tr>\n",
       "    <tr>\n",
       "      <th>2</th>\n",
       "      <td>3</td>\n",
       "      <td>118</td>\n",
       "      <td>0.08</td>\n",
       "      <td>3.48</td>\n",
       "      <td>32.28</td>\n",
       "      <td>Present</td>\n",
       "      <td>52</td>\n",
       "      <td>29.14</td>\n",
       "      <td>3.81</td>\n",
       "      <td>46</td>\n",
       "      <td>0</td>\n",
       "    </tr>\n",
       "    <tr>\n",
       "      <th>3</th>\n",
       "      <td>4</td>\n",
       "      <td>170</td>\n",
       "      <td>7.50</td>\n",
       "      <td>6.41</td>\n",
       "      <td>38.03</td>\n",
       "      <td>Present</td>\n",
       "      <td>51</td>\n",
       "      <td>31.99</td>\n",
       "      <td>24.26</td>\n",
       "      <td>58</td>\n",
       "      <td>1</td>\n",
       "    </tr>\n",
       "    <tr>\n",
       "      <th>4</th>\n",
       "      <td>5</td>\n",
       "      <td>134</td>\n",
       "      <td>13.60</td>\n",
       "      <td>3.50</td>\n",
       "      <td>27.78</td>\n",
       "      <td>Present</td>\n",
       "      <td>60</td>\n",
       "      <td>25.99</td>\n",
       "      <td>57.34</td>\n",
       "      <td>49</td>\n",
       "      <td>1</td>\n",
       "    </tr>\n",
       "  </tbody>\n",
       "</table>\n",
       "</div>"
      ],
      "text/plain": [
       "   row.names  sbp  tobacco   ldl  adiposity  famhist  typea  obesity  alcohol  \\\n",
       "0          1  160    12.00  5.73      23.11  Present     49    25.30    97.20   \n",
       "1          2  144     0.01  4.41      28.61   Absent     55    28.87     2.06   \n",
       "2          3  118     0.08  3.48      32.28  Present     52    29.14     3.81   \n",
       "3          4  170     7.50  6.41      38.03  Present     51    31.99    24.26   \n",
       "4          5  134    13.60  3.50      27.78  Present     60    25.99    57.34   \n",
       "\n",
       "   age  chd  \n",
       "0   52    1  \n",
       "1   63    1  \n",
       "2   46    0  \n",
       "3   58    1  \n",
       "4   49    1  "
      ]
     },
     "execution_count": 3,
     "metadata": {},
     "output_type": "execute_result"
    }
   ],
   "source": [
    "data_url = 'https://raw.githubusercontent.com/tofighi/MachineLearning/master/datasets/heart.csv'\n",
    "data = pd.read_csv(data_url, error_bad_lines=False) # Read a comma-separated values (csv) file into DataFrame.\n",
    "data.head() # visualization of heart.csv file"
   ]
  },
  {
   "cell_type": "code",
   "execution_count": 4,
   "metadata": {},
   "outputs": [
    {
     "name": "stdout",
     "output_type": "stream",
     "text": [
      "The values in chd are as follows:\n",
      "0    302\n",
      "1    160\n",
      "Name: chd, dtype: int64\n",
      "Percentage of class 1 i.e having coronary heart disease =  34.63 %\n",
      "Percentage of class 0 i.e having no coronary heart disease =  65.37 %\n"
     ]
    }
   ],
   "source": [
    "print(\"The values in chd are as follows:\")# References # https://towardsdatascience.com/getting-more-value-from-the-pandas-value-counts-aa17230907a6\n",
    "print(data['chd'].value_counts())\n",
    "class1 = len(data[data['chd'] == 1].index)/ len(data)\n",
    "print(\"Percentage of class 1 i.e having coronary heart disease = \", round(class1*100,2), \"%\")\n",
    "print(\"Percentage of class 0 i.e having no coronary heart disease = \", 100 - round(class1*100,2), \"%\") # "
   ]
  },
  {
   "cell_type": "code",
   "execution_count": 5,
   "metadata": {},
   "outputs": [
    {
     "name": "stdout",
     "output_type": "stream",
     "text": [
      "Missing values are as follows:\n",
      "row.names    0\n",
      "sbp          0\n",
      "tobacco      0\n",
      "ldl          0\n",
      "adiposity    0\n",
      "famhist      0\n",
      "typea        0\n",
      "obesity      0\n",
      "alcohol      0\n",
      "age          0\n",
      "chd          0\n",
      "dtype: int64\n"
     ]
    }
   ],
   "source": [
    "print(\"Missing values are as follows:\")  #  https://www.datacamp.com/community/tutorials/categorical-data\n",
    "print(data.isnull().sum())"
   ]
  },
  {
   "cell_type": "code",
   "execution_count": 6,
   "metadata": {},
   "outputs": [
    {
     "name": "stdout",
     "output_type": "stream",
     "text": [
      "Column data types are as follows:\n",
      "<class 'pandas.core.frame.DataFrame'>\n",
      "RangeIndex: 462 entries, 0 to 461\n",
      "Data columns (total 11 columns):\n",
      " #   Column     Non-Null Count  Dtype  \n",
      "---  ------     --------------  -----  \n",
      " 0   row.names  462 non-null    int64  \n",
      " 1   sbp        462 non-null    int64  \n",
      " 2   tobacco    462 non-null    float64\n",
      " 3   ldl        462 non-null    float64\n",
      " 4   adiposity  462 non-null    float64\n",
      " 5   famhist    462 non-null    object \n",
      " 6   typea      462 non-null    int64  \n",
      " 7   obesity    462 non-null    float64\n",
      " 8   alcohol    462 non-null    float64\n",
      " 9   age        462 non-null    int64  \n",
      " 10  chd        462 non-null    int64  \n",
      "dtypes: float64(5), int64(5), object(1)\n",
      "memory usage: 39.8+ KB\n",
      "None\n",
      "Number of categorical variables in features: 1\n"
     ]
    }
   ],
   "source": [
    "print(\"Column data types are as follows:\")\n",
    "print(data.info())   # The columns with object dtype are the possible categorical features in your dataset.\n",
    "print(\"Number of categorical variables in features: 1\")"
   ]
  },
  {
   "cell_type": "code",
   "execution_count": 7,
   "metadata": {},
   "outputs": [
    {
     "data": {
      "image/png": "[encoded data removed]",
      "text/plain": [
       "<Figure size 720x576 with 2 Axes>"
      ]
     },
     "metadata": {
      "needs_background": "light"
     },
     "output_type": "display_data"
    }
   ],
   "source": [
    "#Using Pearson Correlation, https://towardsdatascience.com/feature-selection-with-pandas-e3690ad8504b\n",
    "plt.figure(figsize=(10,8))\n",
    "cor = data.corr()\n",
    "#sns.heatmap(cor, annot=True, cmap= plt.cm.Reds)\n",
    "sns.heatmap(cor, annot=True, cmap= \"coolwarm\")\n",
    "plt.title('Correlation Matrix', fontsize=16)\n",
    "plt.show()"
   ]
  },
  {
   "cell_type": "code",
   "execution_count": 8,
   "metadata": {},
   "outputs": [
    {
     "name": "stdout",
     "output_type": "stream",
     "text": [
      "One-hot encoding of famhist \n"
     ]
    },
    {
     "data": {
      "text/html": [
       "<div>\n",
       "<style scoped>\n",
       "    .dataframe tbody tr th:only-of-type {\n",
       "        vertical-align: middle;\n",
       "    }\n",
       "\n",
       "    .dataframe tbody tr th {\n",
       "        vertical-align: top;\n",
       "    }\n",
       "\n",
       "    .dataframe thead th {\n",
       "        text-align: right;\n",
       "    }\n",
       "</style>\n",
       "<table border=\"1\" class=\"dataframe\">\n",
       "  <thead>\n",
       "    <tr style=\"text-align: right;\">\n",
       "      <th></th>\n",
       "      <th>row.names</th>\n",
       "      <th>sbp</th>\n",
       "      <th>tobacco</th>\n",
       "      <th>ldl</th>\n",
       "      <th>adiposity</th>\n",
       "      <th>typea</th>\n",
       "      <th>obesity</th>\n",
       "      <th>alcohol</th>\n",
       "      <th>age</th>\n",
       "      <th>chd</th>\n",
       "      <th>familyhist_Absent</th>\n",
       "      <th>familyhist_Present</th>\n",
       "    </tr>\n",
       "  </thead>\n",
       "  <tbody>\n",
       "    <tr>\n",
       "      <th>0</th>\n",
       "      <td>1</td>\n",
       "      <td>160</td>\n",
       "      <td>12.00</td>\n",
       "      <td>5.73</td>\n",
       "      <td>23.11</td>\n",
       "      <td>49</td>\n",
       "      <td>25.30</td>\n",
       "      <td>97.20</td>\n",
       "      <td>52</td>\n",
       "      <td>1</td>\n",
       "      <td>0</td>\n",
       "      <td>1</td>\n",
       "    </tr>\n",
       "    <tr>\n",
       "      <th>1</th>\n",
       "      <td>2</td>\n",
       "      <td>144</td>\n",
       "      <td>0.01</td>\n",
       "      <td>4.41</td>\n",
       "      <td>28.61</td>\n",
       "      <td>55</td>\n",
       "      <td>28.87</td>\n",
       "      <td>2.06</td>\n",
       "      <td>63</td>\n",
       "      <td>1</td>\n",
       "      <td>1</td>\n",
       "      <td>0</td>\n",
       "    </tr>\n",
       "    <tr>\n",
       "      <th>2</th>\n",
       "      <td>3</td>\n",
       "      <td>118</td>\n",
       "      <td>0.08</td>\n",
       "      <td>3.48</td>\n",
       "      <td>32.28</td>\n",
       "      <td>52</td>\n",
       "      <td>29.14</td>\n",
       "      <td>3.81</td>\n",
       "      <td>46</td>\n",
       "      <td>0</td>\n",
       "      <td>0</td>\n",
       "      <td>1</td>\n",
       "    </tr>\n",
       "    <tr>\n",
       "      <th>3</th>\n",
       "      <td>4</td>\n",
       "      <td>170</td>\n",
       "      <td>7.50</td>\n",
       "      <td>6.41</td>\n",
       "      <td>38.03</td>\n",
       "      <td>51</td>\n",
       "      <td>31.99</td>\n",
       "      <td>24.26</td>\n",
       "      <td>58</td>\n",
       "      <td>1</td>\n",
       "      <td>0</td>\n",
       "      <td>1</td>\n",
       "    </tr>\n",
       "    <tr>\n",
       "      <th>4</th>\n",
       "      <td>5</td>\n",
       "      <td>134</td>\n",
       "      <td>13.60</td>\n",
       "      <td>3.50</td>\n",
       "      <td>27.78</td>\n",
       "      <td>60</td>\n",
       "      <td>25.99</td>\n",
       "      <td>57.34</td>\n",
       "      <td>49</td>\n",
       "      <td>1</td>\n",
       "      <td>0</td>\n",
       "      <td>1</td>\n",
       "    </tr>\n",
       "  </tbody>\n",
       "</table>\n",
       "</div>"
      ],
      "text/plain": [
       "   row.names  sbp  tobacco   ldl  adiposity  typea  obesity  alcohol  age  \\\n",
       "0          1  160    12.00  5.73      23.11     49    25.30    97.20   52   \n",
       "1          2  144     0.01  4.41      28.61     55    28.87     2.06   63   \n",
       "2          3  118     0.08  3.48      32.28     52    29.14     3.81   46   \n",
       "3          4  170     7.50  6.41      38.03     51    31.99    24.26   58   \n",
       "4          5  134    13.60  3.50      27.78     60    25.99    57.34   49   \n",
       "\n",
       "   chd  familyhist_Absent  familyhist_Present  \n",
       "0    1                  0                   1  \n",
       "1    1                  1                   0  \n",
       "2    0                  0                   1  \n",
       "3    1                  0                   1  \n",
       "4    1                  0                   1  "
      ]
     },
     "execution_count": 8,
     "metadata": {},
     "output_type": "execute_result"
    }
   ],
   "source": [
    "# https://towardsdatascience.com/what-is-one-hot-encoding-and-how-to-use-pandas-get-dummies-function-922eb9bd4970\n",
    "One_Hot=pd.get_dummies(data.famhist, prefix='familyhist')\n",
    "data = pd.concat([data, One_Hot], axis=1)\n",
    "data =data.drop('famhist', 'columns')\n",
    "print(\"One-hot encoding of famhist \")\n",
    "data.head()"
   ]
  },
  {
   "cell_type": "code",
   "execution_count": 9,
   "metadata": {},
   "outputs": [],
   "source": [
    "def z_score(df):  # Normalization using z score\n",
    "    # copy the dataframe\n",
    "    df_std = df.copy()\n",
    "    df_std_2 =df_std.iloc[:, :-2]\n",
    "    # apply the z-score method\n",
    "    for column in df_std_2.columns:\n",
    "        df_std[column] = (df_std[column] - df_std[column].mean()) / df_std[column].std()        \n",
    "    return df_std"
   ]
  },
  {
   "cell_type": "code",
   "execution_count": 10,
   "metadata": {},
   "outputs": [],
   "source": [
    "# Splitting our DataFrame to features and target for training\n",
    "datafeatures = data[['sbp', 'tobacco', 'ldl', 'adiposity', 'typea', 'obesity', 'alcohol', 'age', 'familyhist_Absent', 'familyhist_Present']]\n",
    "datatargets = data[['chd']]"
   ]
  },
  {
   "cell_type": "code",
   "execution_count": 11,
   "metadata": {},
   "outputs": [],
   "source": [
    "datafeatures=z_score(datafeatures)\n",
    "datafeatures.insert(0,'x0',1) #added a column to represent 'x0' to simplify while training and x0 is always 1.\n"
   ]
  },
  {
   "cell_type": "code",
   "execution_count": 12,
   "metadata": {},
   "outputs": [],
   "source": [
    "np.random.seed(30)  # The pseudorandom number generation with same sequence of random numbers\n",
    "thetas = np.random.rand(len(datafeatures.columns))"
   ]
  },
  {
   "cell_type": "code",
   "execution_count": 1061,
   "metadata": {},
   "outputs": [],
   "source": [
    "def sigmoid(x):  # https://towardsdatascience.com/building-a-logistic-regression-in-python-301d27367c24\n",
    "    # Activation function used to map any real value between 0 and 1\n",
    "    return 1 / (1 + np.exp(-x))\n"
   ]
  },
  {
   "cell_type": "code",
   "execution_count": 1062,
   "metadata": {},
   "outputs": [],
   "source": [
    "def net_input(thetas, x):\n",
    "    # Computes the weighted sum of inputs\n",
    "    return np.dot(x, thetas)"
   ]
  },
  {
   "cell_type": "code",
   "execution_count": 1063,
   "metadata": {},
   "outputs": [],
   "source": [
    "def probability(theta, x):\n",
    "    # Returns the probability after passing through sigmoid\n",
    "    return sigmoid(net_input(theta, x))"
   ]
  },
  {
   "cell_type": "code",
   "execution_count": 1064,
   "metadata": {},
   "outputs": [],
   "source": [
    "def cost_function(thetas, datafeatures, datatargets): # https://towardsdatascience.com/building-a-logistic-regression-in-python-301d27367c24\n",
    "    # Computes the cost function for all the training samples\n",
    "   # m = x.shape[0]\n",
    "  m = len(datafeatures)\n",
    "  total_cost = 0\n",
    "  for i in range(m):\n",
    "    total_cost = total_cost + np.sum(datatargets[i] * np.log(probability(thetas, datafeatures[i])) + (1 - datatargets[i]) * np.log(1 - probability(thetas, datafeatures[i])))\n",
    "  return total_cost * - (1 / m)"
   ]
  },
  {
   "cell_type": "code",
   "execution_count": 1020,
   "metadata": {},
   "outputs": [],
   "source": [
    "def gradient(thetas,datafeatures,datatargets,alpha):\n",
    "    # Computes the gradient of the cost function at the point theta\n",
    "    updated_thetas = list()\n",
    "    m = len(datafeatures)    \n",
    "    for j in range(len(thetas)):\n",
    "        grad_dec= 0\n",
    "        for i in range(m):    \n",
    "            grad_dec=grad_dec + datafeatures[i][j] * (datatargets[i] - probability(thetas,datafeatures[i]))\n",
    "            #grad_dec= grad_dec + np.dot(datafeatures[i], sigmoid(net_input(thetas,datafeatures[i])) - datatargets[i])  \n",
    "       # newtheta=  alpha * grad_dec\n",
    "        grad_dec =  grad_dec * 1 / m\n",
    "        updated_thetas.append(thetas[j] + alpha * grad_dec )\n",
    "    return updated_thetas      "
   ]
  },
  {
   "cell_type": "code",
   "execution_count": 1021,
   "metadata": {},
   "outputs": [],
   "source": [
    "def datasampled(datafeatures,n):  # manupulation of dataframe\n",
    "    datasampled=list()\n",
    "    for i in range(0, len(datafeatures), n):       \n",
    "        z = datafeatures[i:i + n]\n",
    "        datasampled.append(z) \n",
    "    return datasampled"
   ]
  },
  {
   "cell_type": "code",
   "execution_count": 1022,
   "metadata": {},
   "outputs": [],
   "source": [
    "def batch(data_old): # converison of panda data frame to numpy array for faster processing while training\n",
    "    datanew_batches=list()\n",
    "    for batch in data_old:\n",
    "        data_old = batch.to_numpy()\n",
    "        datanew_batches.append(data_old) \n",
    "    return( datanew_batches)"
   ]
  },
  {
   "cell_type": "code",
   "execution_count": 1023,
   "metadata": {},
   "outputs": [],
   "source": [
    "def printerror(error, title):   # function to print the graph of loss function / error\n",
    "    plt.plot(range(1, len(error) + 1), error, color='b')\n",
    "    plt.xlabel(\"Epochs\")\n",
    "    plt.ylabel(\"Error\")\n",
    "    plt.title(title)\n",
    "    plt.show()"
   ]
  },
  {
   "cell_type": "code",
   "execution_count": 1024,
   "metadata": {},
   "outputs": [],
   "source": [
    "def trainingmodel(thetas, datafeatures, datatargets, alpha, epochs, batch_size): # define a model with this function\n",
    "    cost = []\n",
    "   # change pandas dataframe into a numpy array for faster processing through training process.\n",
    "    if (batch_size == 0):\n",
    "        datafeatures_batches = [datafeatures.to_numpy()]\n",
    "        datatargets_batches = [datatargets.to_numpy()]\n",
    "        batch_size = len(datafeatures.index)\n",
    "    else:\n",
    "        datafeatures_batches = datasampled(datafeatures, batch_size)\n",
    "        datatargets_batches = datasampled(datatargets, batch_size)\n",
    "        datafeatures_batches = batch(datafeatures_batches)\n",
    "        datatargets_batches = batch(datatargets_batches)\n",
    "    datafeatures = datafeatures.to_numpy()\n",
    "    datatargets = datatargets.to_numpy()\n",
    "\n",
    "    for i in range( epochs):\n",
    "        for j in range(len(datafeatures_batches)):\n",
    "            thetas = gradient(thetas, datafeatures_batches[j], datatargets_batches[j], alpha)\n",
    "        cost.append(cost_function(thetas, datafeatures, datatargets))\n",
    "        if (i == 500 or i == 1000 or i == 10000):\n",
    "           printerror(cost, \"Cost through {} epochs (alpha = {}, batch_size = {})\".format(i, alpha, batch_size))        \n",
    "    printerror(cost, \"Cost Through {} epochs (alpha = {}, batch_size = {})\".format(epochs, alpha, batch_size))\n",
    "    print(\"Updated thetas:{}\".format(thetas))\n",
    "    updatedtheta = thetas\n",
    "    return updatedtheta\n",
    "    \n"
   ]
  },
  {
   "cell_type": "code",
   "execution_count": 1034,
   "metadata": {
    "scrolled": true
   },
   "outputs": [
    {
     "data": {
      "image/png": "[encoded data removed]",
      "text/plain": [
       "<Figure size 432x288 with 1 Axes>"
      ]
     },
     "metadata": {
      "needs_background": "light"
     },
     "output_type": "display_data"
    },
    {
     "data": {
      "image/png": "[encoded data removed]",
      "text/plain": [
       "<Figure size 432x288 with 1 Axes>"
      ]
     },
     "metadata": {
      "needs_background": "light"
     },
     "output_type": "display_data"
    },
    {
     "data": {
      "image/png": "[encoded data removed]",
      "text/plain": [
       "<Figure size 432x288 with 1 Axes>"
      ]
     },
     "metadata": {
      "needs_background": "light"
     },
     "output_type": "display_data"
    },
    {
     "name": "stdout",
     "output_type": "stream",
     "text": [
      "Updated thetas:[array([-0.45883242]), array([0.07889662]), array([0.3438743]), array([0.28843597]), array([0.36115387]), array([0.27457566]), array([-0.37629158]), array([0.01241485]), array([0.50522353]), array([-0.70209329]), array([0.14204175])]\n"
     ]
    }
   ],
   "source": [
    "#parameters= trainingmodel(thetas, datafeatures, datatargets, 0.001,10000, 0)\n",
    "#parameters= trainingmodel(thetas, datafeatures, datatargets, 0.0001,10000, 50)     \n",
    "#parameters= trainingmodel(thetas, datafeatures, datatargets, 0.001,10000, 0)\n",
    "parameters= trainingmodel(thetas, datafeatures, datatargets, 0.0001,10000, 50)"
   ]
  },
  {
   "cell_type": "code",
   "execution_count": 1037,
   "metadata": {},
   "outputs": [],
   "source": [
    "def predict(x):    # https://towardsdatascience.com/building-a-logistic-regression-in-python-301d27367c24\n",
    "    theta = parameters\n",
    "    return probability(theta, x) \n",
    "\n",
    "def accuracy(x, actual_classes, probab_threshold=0.5): # define a function to calculate an accuracy of the model\n",
    "    predicted_classes = (predict(x) >= probab_threshold).astype(int)\n",
    "    predicted_classes = predicted_classes \n",
    "    accuracy = np.mean(predicted_classes == actual_classes)\n",
    "    return accuracy * 100\n"
   ]
  },
  {
   "cell_type": "code",
   "execution_count": 1038,
   "metadata": {},
   "outputs": [
    {
     "name": "stdout",
     "output_type": "stream",
     "text": [
      "Accuracy of the trained model:chd    74.025974\n",
      "dtype: float64\n"
     ]
    }
   ],
   "source": [
    "acc=accuracy(datafeatures,datatargets) # call model accuracy based on same training data. By the way in real scenario we dont do this. \n",
    "print(\"Accuracy of the trained model:{}\".format(acc))"
   ]
  },
  {
   "cell_type": "code",
   "execution_count": 21,
   "metadata": {},
   "outputs": [
    {
     "name": "stdout",
     "output_type": "stream",
     "text": [
      "Model trained with sklearn has the following thetas:\n",
      "[[-7.95643958e-01  2.56893656e-05  1.33056242e-01  3.61797899e-01\n",
      "   3.55621553e-01  1.42841644e-01  3.79769926e-01 -2.55983642e-01\n",
      "   3.65472155e-03  6.48247641e-01 -4.51368504e-01  4.51394193e-01]]\n",
      "Accuracy: 0.7337662337662337 \n"
     ]
    }
   ],
   "source": [
    "# Reproduce the result again using the sklearn model to validate/compare result to our build model.\n",
    "model = LogisticRegression()   # https://towardsdatascience.com/building-a-logistic-regression-in-python-301d27367c24\n",
    "model.fit(datafeatures, np.ravel(datatargets.T))   \n",
    "predicted_classes = model.predict(datafeatures)\n",
    "accuracy = accuracy_score(datatargets,predicted_classes)\n",
    "print(\"Model trained with sklearn has the following thetas:\")\n",
    "print(np.hstack((model.intercept_[:,None], model.coef_)))\n",
    "print(\"Accuracy: {} \".format(accuracy))"
   ]
  },
  {
   "cell_type": "code",
   "execution_count": null,
   "metadata": {},
   "outputs": [],
   "source": []
  }
 ],
 "metadata": {
  "kernelspec": {
   "display_name": "Python 3",
   "language": "python",
   "name": "python3"
  },
  "language_info": {
   "codemirror_mode": {
    "name": "ipython",
    "version": 3
   },
   "file_extension": ".py",
   "mimetype": "text/x-python",
   "name": "python",
   "nbconvert_exporter": "python",
   "pygments_lexer": "ipython3",
   "version": "3.8.3"
  }
 },
 "nbformat": 4,
 "nbformat_minor": 4
}
