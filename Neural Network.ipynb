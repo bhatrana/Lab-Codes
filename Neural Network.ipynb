{
 "cells": [
  {
   "cell_type": "code",
   "execution_count": 530,
   "metadata": {
    "id": "9W2Y1-9O7Aj5"
   },
   "outputs": [],
   "source": [
    "import tensorflow as tf\n",
    "from tensorflow import keras\n",
    "import numpy as np\n",
    "import random\n",
    "import matplotlib.pyplot as plt\n",
    "from sklearn import preprocessing\n",
    "from sklearn.preprocessing import MinMaxScaler\n",
    "from sklearn.metrics import mean_absolute_error, mean_squared_error, r2_score"
   ]
  },
  {
   "cell_type": "code",
   "execution_count": 531,
   "metadata": {
    "colab": {
     "base_uri": "https://localhost:8080/",
     "height": 404
    },
    "id": "4R_0U8P87Hwl",
    "outputId": "19a23a84-b8e4-4af1-ad79-9b153c1021c3"
   },
   "outputs": [
    {
     "data": {
      "image/png": "[encoded data removed]",
      "text/plain": [
       "<Figure size 576x432 with 1 Axes>"
      ]
     },
     "metadata": {
      "needs_background": "light",
      "tags": []
     },
     "output_type": "display_data"
    }
   ],
   "source": [
    "x = 0 ; y = 0                     # create x and y based on the question\n",
    "x = np.linspace(-1, 1, 30000)\n",
    "y = 0.2 * pow(x,4) + 2 * pow(x,3) + 0.1 * pow(x,2) + 10\n",
    "plt.figure(figsize = (8,6)) \n",
    "plt.rc('font', size = 11) \n",
    "plt.scatter(x,y,color = 'red')     # Initial plot of the function\n",
    "plt.xlabel('x')\n",
    "plt.ylabel('y')\n",
    "plt.title('Initial plot of the function')\n",
    "plt.show()\n"
   ]
  },
  {
   "cell_type": "code",
   "execution_count": 532,
   "metadata": {
    "id": "k_vfeqri7XVq"
   },
   "outputs": [],
   "source": [
    "def datasets(shuffle):              #  Q2 : Function to shuffle the data if needed.\n",
    "  x_dataset = np.linspace(-1 , 1, 30000)\n",
    "  if (shuffle == \"No\") :    \n",
    "    y_dataset = 0.2 * pow(x_dataset, 4) + 2 * pow(x_dataset,3) + 0.1 * pow(x_dataset,2) + 10     \n",
    "  elif (shuffle ==  \"Yes\") :      \n",
    "      np.random.shuffle(x_dataset)  \n",
    "      y_dataset = 0.2 * pow(x_dataset, 4) + 2 * pow(x_dataset,3) + 0.1 * pow(x_dataset,2) + 10          \n",
    "  else: \n",
    "    print (\"Enter Yes for shuffled data, No for unsufffled data \")\n",
    "  return x_dataset, y_dataset"
   ]
  },
  {
   "cell_type": "code",
   "execution_count": 533,
   "metadata": {
    "id": "hHEFke2GuY49"
   },
   "outputs": [],
   "source": [
    "#  Q2 : Split data into train, test and validation sets\n",
    "def splitdata (x_dataset, y_dataset, train_size, test_size):     #https://stackoverflow.com/questions/3674409/how-to-split-partition-a-dataset-into-training-and-test-datasets-for-e-g-cros\n",
    "  x_train, x_test, x_val  = np.split(x_dataset, [int(train_size*len(x_dataset)), int((train_size + test_size)*len(x_dataset))])\n",
    "  y_train, y_test, y_val  = np.split(y_dataset, [int(train_size*len(y_dataset)), int((train_size + test_size)*len(y_dataset))])  \n",
    "  return  x_train, x_test, x_val, y_train, y_test, y_val"
   ]
  },
  {
   "cell_type": "code",
   "execution_count": 534,
   "metadata": {
    "id": "nHt1DZi10KX4"
   },
   "outputs": [],
   "source": [
    "# Q3 : Scale data between 0 and 1\n",
    "def normalized(x_train, x_test, x_val, y_train, y_test, y_val, scale ):  \n",
    "  if scale == \"Yes\":\n",
    "    scaler = MinMaxScaler(feature_range = (0, 1))\n",
    "    x_train = scaler.fit_transform(x_train.reshape(-1,1)) \n",
    "    x_test = scaler.fit_transform(x_test.reshape(-1,1))   # https://machinelearningmastery.com/prepare-data-machine-learning-python-scikit-learn/\n",
    "    x_val = scaler.fit_transform(x_val.reshape(-1,1)) \n",
    "    y_train = scaler.fit_transform(y_train.reshape(-1,1))   \n",
    "    y_test = scaler.fit_transform(y_test.reshape(-1,1)) \n",
    "    y_val = scaler.fit_transform(y_val.reshape(-1,1)) \n",
    "  elif scale == \"No\":\n",
    "    x_train = x_train; x_test = x_test; x_val= x_val; y_train= y_train; y_val =y_val   \n",
    "  else:\n",
    "    Print(\"Use only Yes or No value\")\n",
    "  return x_train, x_test, x_val, y_train, y_test, y_val"
   ]
  },
  {
   "cell_type": "code",
   "execution_count": 535,
   "metadata": {
    "id": "QVBOcApoUgK5"
   },
   "outputs": [],
   "source": [
    "def metrices(y_test,y_predicted):    # Q4:  Calculate different metrices                 #https://docs.w3cub.com/scikit_learn/modules/generated/sklearn.metrics.mean_absolute_error\n",
    "  MAE = round(mean_absolute_error(y_test, y_predicted),3)\n",
    "  MSE = round(mean_squared_error(y_test, y_predicted),3)\n",
    "  RMSE = round(mean_squared_error(y_test, y_predicted, squared = False),3)\n",
    "  r2 = round(r2_score(y_test, y_predicted),3) \n",
    "  return MAE, MSE, RMSE, r2"
   ]
  },
  {
   "cell_type": "code",
   "execution_count": 536,
   "metadata": {
    "id": "CfvfFIMJnaWs"
   },
   "outputs": [],
   "source": [
    "def plots(x, y, color, title, xlabel, ylabel, structure, activation_fxn, shuffle, scale, MAE, MSE, RMSE, r2):   # plot the results with all details labels and metrices results\n",
    "  if ylabel == 'y_predicted':       \n",
    "    plt.figure(figsize=(8,6)) \n",
    "    plt.scatter(x, y, color = color, label = 'MAE : ' + str(MAE) + ',  MSE : ' + str (MSE)+ ',  RMSE : ' + str (RMSE)+ ',  r2 : ' + str (r2) + ', Structure = '+ str(structure))   \n",
    "    plt.title(title+ ', Activation fxn = ' + str(activation_fxn) + ', Shuffle = ' + str(shuffle) + \" & Scale = \" + str(scale))\n",
    "    plt.legend()   \n",
    "  else:\n",
    "    plt.figure(figsize=(8,6))    \n",
    "    plt.scatter(x, y, color = color)\n",
    "    plt.title(title) \n",
    "  plt.xlabel(xlabel)\n",
    "  plt.ylabel(ylabel)   \n",
    "  plt.show()"
   ]
  },
  {
   "cell_type": "code",
   "execution_count": 537,
   "metadata": {
    "id": "kdtRNEsMBRC4"
   },
   "outputs": [],
   "source": [
    "# https://www.tensorflow.org/api_docs/python/tf/keras/layers/InputLayer\n",
    "# https://towardsdatascience.com/building-your-first-neural-network-in-tensorflow-2-tensorflow-for-hackers-part-i-e1e2f1dfe7a0\n",
    " # https://keras.io/examples/timeseries/timeseries_weather_forecasting/\n",
    "def trainmodel(structure, activation_fxn, shuffle, scale):                      # Q5 : Implement neural network structures using different hyper paramterers.\n",
    "  if (structure == 1):\n",
    "    model = keras.Sequential([                               \n",
    "    #keras.layers.InputLayer(input_shape=(900,1)),    \n",
    "    keras.layers.Dense(units=12, activation = activation_fxn),  # FCL (12 units ) // first hidden layer\n",
    "    keras.layers.Dense(units=8, activation = activation_fxn),   # FCL (8 units ) // second hidden layer\n",
    "    keras.layers.Dense(units=4, activation = activation_fxn),   # FCL (4 units ) // last hidden layer\n",
    "    keras.layers.Dense(units=1)\n",
    "     ]) \n",
    "  elif (structure == 2):\n",
    "    model = keras.Sequential([   \n",
    "    keras.layers.Dense(units = 24, activation = activation_fxn),\n",
    "    keras.layers.Dense(units=1)  \n",
    "    ])\n",
    "  else: \n",
    "    print(\"Enter Structure type as 1 or 2 only \")\n",
    " \n",
    "  model.compile(optimizer='adam', loss=tf.keras.losses.MeanSquaredError())  # https://www.tensorflow.org/guide/keras/train_and_evaluate\n",
    " # x = np.linspace(-1, 1, 30000)\n",
    "  x_dataset,y_dataset = datasets(shuffle)   \n",
    "  x_train, x_test, x_val, y_train, y_test, y_val = splitdata(x_dataset,y_dataset, 0.3, 0.5) # 30 % training set, 20 % validation and 50 % test set.\n",
    "  x_train, x_test, x_val, y_train, y_test, y_val = normalized(x_train, x_test, x_val, y_train, y_test, y_val, scale)\n",
    "  history = model.fit(x_train, y_train, batch_size = 12, epochs = 20, validation_data = (x_val, y_val))        # https://www.tensorflow.org/api_docs/python/tf/keras/Model                                                \n",
    "  y_predicted = model.predict(x_test)\n",
    "  MAE, MSE, RMSE, r2 = metrices(y_test, y_predicted)  \n",
    "  plots(x_test, y_test, 'green' , \"x_test vs. y_test\", \"x_test\" , \"y_test\", structure, activation_fxn, shuffle, scale, MAE, MSE, RMSE, r2)\n",
    "  plots(x_test, y_predicted, 'blue', \"x_test vs. y_predicted\", \"x_test\", \"y_predicted\", structure, activation_fxn, shuffle, scale, MAE, MSE, RMSE, r2)      "
   ]
  },
  {
   "cell_type": "code",
   "execution_count": 539,
   "metadata": {
    "colab": {
     "base_uri": "https://localhost:8080/",
     "height": 1000
    },
    "id": "g5CXHu2Qb1e3",
    "outputId": "642e98e7-dff4-4e6c-e91a-474290d6981f"
   },
   "outputs": [
    {
     "name": "stdout",
     "output_type": "stream",
     "text": [
      "Epoch 1/20\n",
      "750/750 [==============================] - 2s 2ms/step - loss: 80.1129 - val_loss: 111.3271\n",
      "Epoch 2/20\n",
      "750/750 [==============================] - 1s 2ms/step - loss: 67.6965 - val_loss: 96.8250\n",
      "Epoch 3/20\n",
      "750/750 [==============================] - 1s 2ms/step - loss: 56.6581 - val_loss: 83.6988\n",
      "Epoch 4/20\n",
      "750/750 [==============================] - 2s 2ms/step - loss: 46.8513 - val_loss: 71.8079\n",
      "Epoch 5/20\n",
      "750/750 [==============================] - 1s 2ms/step - loss: 38.1658 - val_loss: 61.0509\n",
      "Epoch 6/20\n",
      "750/750 [==============================] - 2s 2ms/step - loss: 30.5260 - val_loss: 51.3617\n",
      "Epoch 7/20\n",
      "750/750 [==============================] - 1s 2ms/step - loss: 23.8764 - val_loss: 42.6953\n",
      "Epoch 8/20\n",
      "750/750 [==============================] - 1s 2ms/step - loss: 18.1704 - val_loss: 35.0083\n",
      "Epoch 9/20\n",
      "750/750 [==============================] - 2s 2ms/step - loss: 13.3679 - val_loss: 28.2754\n",
      "Epoch 10/20\n",
      "750/750 [==============================] - 1s 2ms/step - loss: 9.4286 - val_loss: 22.4685\n",
      "Epoch 11/20\n",
      "750/750 [==============================] - 1s 2ms/step - loss: 6.3054 - val_loss: 17.5525\n",
      "Epoch 12/20\n",
      "750/750 [==============================] - 2s 2ms/step - loss: 3.9431 - val_loss: 13.5063\n",
      "Epoch 13/20\n",
      "750/750 [==============================] - 1s 2ms/step - loss: 2.2687 - val_loss: 10.2764\n",
      "Epoch 14/20\n",
      "750/750 [==============================] - 1s 2ms/step - loss: 1.1888 - val_loss: 7.8218\n",
      "Epoch 15/20\n",
      "750/750 [==============================] - 2s 2ms/step - loss: 0.5867 - val_loss: 6.0921\n",
      "Epoch 16/20\n",
      "750/750 [==============================] - 2s 2ms/step - loss: 0.3164 - val_loss: 4.9943\n",
      "Epoch 17/20\n",
      "750/750 [==============================] - 1s 2ms/step - loss: 0.2299 - val_loss: 4.4137\n",
      "Epoch 18/20\n",
      "750/750 [==============================] - 2s 2ms/step - loss: 0.2137 - val_loss: 4.2082\n",
      "Epoch 19/20\n",
      "750/750 [==============================] - 1s 2ms/step - loss: 0.2123 - val_loss: 4.1601\n",
      "Epoch 20/20\n",
      "750/750 [==============================] - 1s 2ms/step - loss: 0.2122 - val_loss: 4.1759\n"
     ]
    },
    {
     "data": {
      "image/png": "[encoded data removed]",
      "text/plain": [
       "<Figure size 576x432 with 1 Axes>"
      ]
     },
     "metadata": {
      "needs_background": "light",
      "tags": []
     },
     "output_type": "display_data"
    },
    {
     "data": {
      "image/png": "[encoded data removed]",
      "text/plain": [
       "<Figure size 576x432 with 1 Axes>"
      ]
     },
     "metadata": {
      "needs_background": "light",
      "tags": []
     },
     "output_type": "display_data"
    }
   ],
   "source": [
    "trainmodel(1, 'relu', \"No\", \"No\")   # trainmodel(structure = 1  or 2 , activation_fxn = \"relu\" or \"tanh\", shuffle= \"Yes\" or \" No\", scale = \"Yes\" or \" No\")"
   ]
  }
 ],
 "metadata": {
  "colab": {
   "collapsed_sections": [],
   "name": "EE8209_Raj_Kumar Ranabhat_Lab3",
   "provenance": []
  },
  "kernelspec": {
   "display_name": "Python 3",
   "language": "python",
   "name": "python3"
  },
  "language_info": {
   "codemirror_mode": {
    "name": "ipython",
    "version": 3
   },
   "file_extension": ".py",
   "mimetype": "text/x-python",
   "name": "python",
   "nbconvert_exporter": "python",
   "pygments_lexer": "ipython3",
   "version": "3.8.3"
  }
 },
 "nbformat": 4,
 "nbformat_minor": 1
}
